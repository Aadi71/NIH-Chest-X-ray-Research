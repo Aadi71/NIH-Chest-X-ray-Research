{
  "metadata": {
    "kernelspec": {
      "language": "python",
      "display_name": "Python 3",
      "name": "python3"
    },
    "language_info": {
      "name": "python",
      "version": "3.7.12",
      "mimetype": "text/x-python",
      "codemirror_mode": {
        "name": "ipython",
        "version": 3
      },
      "pygments_lexer": "ipython3",
      "nbconvert_exporter": "python",
      "file_extension": ".py"
    },
    "colab": {
      "provenance": []
    }
  },
  "nbformat_minor": 0,
  "nbformat": 4,
  "cells": [
    {
      "cell_type": "markdown",
      "source": [
        "# NIH Chest X-ray Dataset - Trained on VGG16"
      ],
      "metadata": {
        "id": "RmUjjJMPlpWj"
      }
    },
    {
      "cell_type": "code",
      "source": [
        "import numpy as np\n",
        "import pandas as pd\n",
        "from glob import glob\n",
        "from tqdm import tqdm\n",
        "from sklearn.utils import shuffle\n",
        "\n",
        "df = pd.read_csv('../input/data/Data_Entry_2017.csv')\n",
        "\n",
        "diseases = ['Cardiomegaly','Emphysema','Effusion','Hernia','Nodule','Pneumothorax','Atelectasis','Pleural_Thickening','Mass','Edema','Consolidation','Infiltration','Fibrosis','Pneumonia']\n",
        "#Number diseases\n",
        "for disease in diseases :\n",
        "    df[disease] = df['Finding Labels'].apply(lambda x: 1 if disease in x else 0)\n"
      ],
      "metadata": {
        "_uuid": "8f2839f25d086af736a60e9eeb907d3b93b6e0e5",
        "_cell_guid": "b1076dfc-b9ad-4769-8c92-a6c4dae69d19",
        "execution": {
          "iopub.status.busy": "2022-06-30T04:31:43.008320Z",
          "iopub.execute_input": "2022-06-30T04:31:43.008755Z",
          "iopub.status.idle": "2022-06-30T04:31:45.736292Z",
          "shell.execute_reply.started": "2022-06-30T04:31:43.008667Z",
          "shell.execute_reply": "2022-06-30T04:31:45.734010Z"
        },
        "trusted": true,
        "id": "DCCcQrzHldOF"
      },
      "execution_count": null,
      "outputs": []
    },
    {
      "cell_type": "code",
      "source": [
        "import os\n",
        "labels = df[diseases].to_numpy()\n",
        "all_image_paths = {os.path.basename(x): x for x in \n",
        "                   glob(os.path.join('..', 'input','data','images*','images','*.png'))}\n",
        "print('Images found:', len(all_image_paths))\n",
        "\n",
        "\n",
        "df['Path'] = df['Image Index'].map(all_image_paths.get)\n",
        "files_list = df['Path'].tolist()\n",
        "\n",
        "# #test to perfect\n",
        "# labelB = df['Emphysema'].tolist()\n",
        "\n",
        "labelB = (df[diseases].sum(axis=1)>0).tolist()\n",
        "labelB = np.array(labelB, dtype=int)\n"
      ],
      "metadata": {
        "execution": {
          "iopub.status.busy": "2022-06-30T04:31:45.739351Z",
          "iopub.execute_input": "2022-06-30T04:31:45.742041Z",
          "iopub.status.idle": "2022-06-30T04:31:51.539440Z",
          "shell.execute_reply.started": "2022-06-30T04:31:45.742000Z",
          "shell.execute_reply": "2022-06-30T04:31:51.538417Z"
        },
        "trusted": true,
        "id": "L4Xi0t_yldOI",
        "outputId": "bb4e0c4c-e2f3-46af-ef46-9c0650c4b803"
      },
      "execution_count": null,
      "outputs": [
        {
          "name": "stdout",
          "text": "Images found: 112120\n",
          "output_type": "stream"
        }
      ]
    },
    {
      "cell_type": "code",
      "source": [
        "from keras.preprocessing import image                  \n",
        "from tqdm import tqdm\n",
        "\n",
        "def path_to_tensor(img_path, shape):\n",
        "    # loads RGB image as PIL.Image.Image type\n",
        "    img = image.load_img(img_path, target_size=shape)\n",
        "    # convert PIL.Image.Image type to 3D tensor with shape (224, 224, 3)\n",
        "    x = image.img_to_array(img)/255\n",
        "    # convert 3D tensor to 4D tensor with shape (1, 224, 224, 3) and return 4D tensor\n",
        "    return np.expand_dims(x, axis=0)\n",
        "\n",
        "def paths_to_tensor(img_paths, shape):\n",
        "    list_of_tensors = [path_to_tensor(img_path, shape) for img_path in tqdm(img_paths)]\n",
        "    return np.vstack(list_of_tensors)\n",
        "\n",
        "train_labels = labelB[:89600][:, np.newaxis]\n",
        "valid_labels = labelB[89600:100800][:, np.newaxis]\n",
        "test_labels = labelB[100800:][:, np.newaxis]\n",
        "\n",
        "img_shape = (64, 64)\n",
        "train_tensors = paths_to_tensor(files_list[:89600], shape = img_shape)\n",
        "valid_tensors = paths_to_tensor(files_list[89600:100800], shape = img_shape)\n",
        "test_tensors = paths_to_tensor(files_list[100800:], shape = img_shape)"
      ],
      "metadata": {
        "execution": {
          "iopub.status.busy": "2022-06-30T04:32:43.402246Z",
          "iopub.execute_input": "2022-06-30T04:32:43.402594Z",
          "iopub.status.idle": "2022-06-30T05:21:11.534842Z",
          "shell.execute_reply.started": "2022-06-30T04:32:43.402565Z",
          "shell.execute_reply": "2022-06-30T05:21:11.533973Z"
        },
        "trusted": true,
        "id": "bFYl-0L5ldOK",
        "outputId": "10835d25-9445-4451-cff1-d596131a3fd0"
      },
      "execution_count": null,
      "outputs": [
        {
          "name": "stderr",
          "text": "100%|██████████| 89600/89600 [39:04<00:00, 38.21it/s]\n100%|██████████| 11200/11200 [04:38<00:00, 40.24it/s]\n100%|██████████| 11320/11320 [04:34<00:00, 41.17it/s]\n",
          "output_type": "stream"
        }
      ]
    },
    {
      "cell_type": "code",
      "source": [
        "import time\n",
        "\n",
        "from keras.layers import Conv2D, MaxPooling2D, GlobalAveragePooling2D, Dropout, Flatten, Dense\n",
        "from keras.models import Sequential, Model\n",
        "from keras.layers import BatchNormalization\n",
        "from keras import regularizers, applications, optimizers, initializers\n",
        "from keras.preprocessing.image import ImageDataGenerator\n",
        "from tensorflow.keras.applications.vgg16 import VGG16\n",
        "\n",
        "# VGG16\n",
        "# resnet50.ResNet50\n",
        "# inception_v3.InceptionV3 299x299\n",
        "# inception_resnet_v2.InceptionResNetV2 299x299\n",
        "\n",
        "base_model = VGG16(weights='imagenet', \n",
        "                                include_top=False, \n",
        "                                input_shape=train_tensors.shape[1:])\n",
        "\n",
        "add_model = Sequential()\n",
        "add_model.add(Flatten(input_shape=base_model.output_shape[1:]))\n",
        "add_model.add(Dropout(0.2))\n",
        "add_model.add(Dense(256, activation='relu'))\n",
        "add_model.add(Dropout(0.2))\n",
        "add_model.add(Dense(50, activation='relu'))\n",
        "add_model.add(Dropout(0.2))\n",
        "add_model.add(Dense(1, activation='sigmoid'))\n",
        "\n",
        "model = Model(inputs=base_model.input, outputs=add_model(base_model.output))\n",
        "\n",
        "model.summary()"
      ],
      "metadata": {
        "execution": {
          "iopub.status.busy": "2022-06-30T05:24:15.908889Z",
          "iopub.execute_input": "2022-06-30T05:24:15.909539Z",
          "iopub.status.idle": "2022-06-30T05:24:16.233188Z",
          "shell.execute_reply.started": "2022-06-30T05:24:15.909506Z",
          "shell.execute_reply": "2022-06-30T05:24:16.232392Z"
        },
        "trusted": true,
        "id": "qCOCw69oldOL",
        "outputId": "9c7b14e7-e547-4bc1-b1fd-114080f8726f"
      },
      "execution_count": null,
      "outputs": [
        {
          "name": "stdout",
          "text": "Model: \"model_1\"\n_________________________________________________________________\nLayer (type)                 Output Shape              Param #   \n=================================================================\ninput_2 (InputLayer)         [(None, 64, 64, 3)]       0         \n_________________________________________________________________\nblock1_conv1 (Conv2D)        (None, 64, 64, 64)        1792      \n_________________________________________________________________\nblock1_conv2 (Conv2D)        (None, 64, 64, 64)        36928     \n_________________________________________________________________\nblock1_pool (MaxPooling2D)   (None, 32, 32, 64)        0         \n_________________________________________________________________\nblock2_conv1 (Conv2D)        (None, 32, 32, 128)       73856     \n_________________________________________________________________\nblock2_conv2 (Conv2D)        (None, 32, 32, 128)       147584    \n_________________________________________________________________\nblock2_pool (MaxPooling2D)   (None, 16, 16, 128)       0         \n_________________________________________________________________\nblock3_conv1 (Conv2D)        (None, 16, 16, 256)       295168    \n_________________________________________________________________\nblock3_conv2 (Conv2D)        (None, 16, 16, 256)       590080    \n_________________________________________________________________\nblock3_conv3 (Conv2D)        (None, 16, 16, 256)       590080    \n_________________________________________________________________\nblock3_pool (MaxPooling2D)   (None, 8, 8, 256)         0         \n_________________________________________________________________\nblock4_conv1 (Conv2D)        (None, 8, 8, 512)         1180160   \n_________________________________________________________________\nblock4_conv2 (Conv2D)        (None, 8, 8, 512)         2359808   \n_________________________________________________________________\nblock4_conv3 (Conv2D)        (None, 8, 8, 512)         2359808   \n_________________________________________________________________\nblock4_pool (MaxPooling2D)   (None, 4, 4, 512)         0         \n_________________________________________________________________\nblock5_conv1 (Conv2D)        (None, 4, 4, 512)         2359808   \n_________________________________________________________________\nblock5_conv2 (Conv2D)        (None, 4, 4, 512)         2359808   \n_________________________________________________________________\nblock5_conv3 (Conv2D)        (None, 4, 4, 512)         2359808   \n_________________________________________________________________\nblock5_pool (MaxPooling2D)   (None, 2, 2, 512)         0         \n_________________________________________________________________\nsequential_1 (Sequential)    (None, 1)                 537445    \n=================================================================\nTotal params: 15,252,133\nTrainable params: 15,252,133\nNon-trainable params: 0\n_________________________________________________________________\n",
          "output_type": "stream"
        }
      ]
    },
    {
      "cell_type": "code",
      "source": [
        "from keras import backend as K\n",
        "\n",
        "def binary_accuracy(y_true, y_pred):\n",
        "    return K.mean(K.equal(y_true, K.round(y_pred)))\n",
        "\n",
        "def precision_threshold(threshold = 0.5):\n",
        "    def precision(y_true, y_pred):\n",
        "        threshold_value = threshold\n",
        "        y_pred = K.cast(K.greater(K.clip(y_pred, 0, 1), threshold_value), K.floatx())\n",
        "        true_positives = K.round(K.sum(K.clip(y_true * y_pred, 0, 1)))\n",
        "        predicted_positives = K.sum(y_pred)\n",
        "        precision_ratio = true_positives / (predicted_positives + K.epsilon())\n",
        "        return precision_ratio\n",
        "    return precision\n",
        "\n",
        "def recall_threshold(threshold = 0.5):\n",
        "    def recall(y_true, y_pred):\n",
        "        threshold_value = threshold\n",
        "        y_pred = K.cast(K.greater(K.clip(y_pred, 0, 1), threshold_value), K.floatx())\n",
        "        true_positives = K.round(K.sum(K.clip(y_true * y_pred, 0, 1)))\n",
        "        possible_positives = K.sum(K.clip(y_true, 0, 1))\n",
        "        recall_ratio = true_positives / (possible_positives + K.epsilon())\n",
        "        return recall_ratio\n",
        "    return recall\n",
        "\n",
        "def fbeta_score_threshold(beta = 1, threshold = 0.5):\n",
        "    def fbeta_score(y_true, y_pred):\n",
        "        threshold_value = threshold\n",
        "        beta_value = beta\n",
        "        p = precision_threshold(threshold_value)(y_true, y_pred)\n",
        "        r = recall_threshold(threshold_value)(y_true, y_pred)\n",
        "        bb = beta_value ** 2\n",
        "        fbeta_score = (1 + bb) * (p * r) / (bb * p + r + K.epsilon())\n",
        "        return fbeta_score"
      ],
      "metadata": {
        "execution": {
          "iopub.status.busy": "2022-06-30T05:24:16.494171Z",
          "iopub.execute_input": "2022-06-30T05:24:16.494830Z",
          "iopub.status.idle": "2022-06-30T05:24:16.507444Z",
          "shell.execute_reply.started": "2022-06-30T05:24:16.494787Z",
          "shell.execute_reply": "2022-06-30T05:24:16.506596Z"
        },
        "trusted": true,
        "id": "fjLC5p3-ldOM"
      },
      "execution_count": null,
      "outputs": []
    },
    {
      "cell_type": "code",
      "source": [
        "import keras.backend as K\n",
        "import tensorflow as tf\n",
        "\n",
        "model.compile(optimizer=tf.keras.optimizers.Adam(learning_rate=1e-4, decay=1e-6), \n",
        "              loss='binary_crossentropy', \n",
        "              metrics=['accuracy',\n",
        "                      precision_threshold(threshold = 0.5), \n",
        "                       recall_threshold(threshold = 0.5), \n",
        "                       fbeta_score_threshold(beta=0.5, threshold = 0.5)])"
      ],
      "metadata": {
        "execution": {
          "iopub.status.busy": "2022-06-30T05:24:46.479902Z",
          "iopub.execute_input": "2022-06-30T05:24:46.480538Z",
          "iopub.status.idle": "2022-06-30T05:24:46.497404Z",
          "shell.execute_reply.started": "2022-06-30T05:24:46.480499Z",
          "shell.execute_reply": "2022-06-30T05:24:46.496454Z"
        },
        "trusted": true,
        "id": "h8xZsfFeldON"
      },
      "execution_count": null,
      "outputs": []
    },
    {
      "cell_type": "code",
      "source": [
        "from keras.callbacks import ModelCheckpoint, CSVLogger, EarlyStopping\n",
        "import numpy as np\n",
        "\n",
        "epochs = 20\n",
        "batch_size = 32\n",
        "\n",
        "earlystop = EarlyStopping(monitor='val_loss', min_delta=0, patience=4, verbose=1, mode='auto')\n",
        "log = CSVLogger('saved_models/log_pretrained_CNN.csv')\n",
        "checkpointer = ModelCheckpoint(filepath='saved_models/pretrainedVGG.best.from_scratch.hdf5', \n",
        "                               verbose=1, save_best_only=True)\n",
        "\n",
        "start = time.time()\n",
        "train_datagen = ImageDataGenerator(\n",
        "                        featurewise_center=False,  # set input mean to 0 over the dataset\n",
        "                        samplewise_center=False,  # set each sample mean to 0\n",
        "                        featurewise_std_normalization=False,  # divide inputs by std of the dataset\n",
        "                        samplewise_std_normalization=False,  # divide each input by its std\n",
        "                        zca_whitening=False,  # apply ZCA whitening\n",
        "                        rotation_range=10,  # randomly rotate images in the range (degrees, 0 to 180)\n",
        "                        width_shift_range=0.1,  # randomly shift images horizontally (fraction of total width)\n",
        "                        height_shift_range=0.1,  # randomly shift images vertically (fraction of total height)\n",
        "                        horizontal_flip=True,  # randomly flip images\n",
        "                        vertical_flip=False \n",
        ")\n",
        "history = model.fit_generator(\n",
        "    train_datagen.flow(train_tensors,train_labels, batch_size = batch_size),\n",
        "    steps_per_epoch = len(train_tensors) // batch_size,\n",
        "    validation_data = (valid_tensors, valid_labels),\n",
        "    validation_steps = len(valid_tensors) // batch_size,\n",
        "    epochs = epochs,\n",
        "    callbacks=[checkpointer, log, earlystop], verbose=1\n",
        ")\n",
        "print(\"training time: %.2f minutes\"%((time.time()-start)/60))"
      ],
      "metadata": {
        "execution": {
          "iopub.status.busy": "2022-06-30T05:24:48.464381Z",
          "iopub.execute_input": "2022-06-30T05:24:48.464746Z",
          "iopub.status.idle": "2022-06-30T05:47:00.371173Z",
          "shell.execute_reply.started": "2022-06-30T05:24:48.464715Z",
          "shell.execute_reply": "2022-06-30T05:47:00.370162Z"
        },
        "trusted": true,
        "id": "7BFfPPSlldOO",
        "outputId": "f9a8e632-e7e2-4a88-ff37-ec43231f05e4"
      },
      "execution_count": null,
      "outputs": [
        {
          "name": "stderr",
          "text": "2022-06-30 05:24:48.606777: I tensorflow/compiler/mlir/mlir_graph_optimization_pass.cc:185] None of the MLIR Optimization Passes are enabled (registered 2)\n",
          "output_type": "stream"
        },
        {
          "name": "stdout",
          "text": "Epoch 1/20\n",
          "output_type": "stream"
        },
        {
          "name": "stderr",
          "text": "2022-06-30 05:24:50.663505: I tensorflow/stream_executor/cuda/cuda_dnn.cc:369] Loaded cuDNN version 8005\n",
          "output_type": "stream"
        },
        {
          "name": "stdout",
          "text": "2800/2800 [==============================] - ETA: 0s - loss: 0.6342 - accuracy: 0.6545 - precision: 0.6466 - recall: 0.5811",
          "output_type": "stream"
        },
        {
          "name": "stderr",
          "text": "2022-06-30 05:27:06.061425: W tensorflow/core/framework/cpu_allocator_impl.cc:80] Allocation of 550502400 exceeds 10% of free system memory.\n",
          "output_type": "stream"
        },
        {
          "name": "stdout",
          "text": "2800/2800 [==============================] - 143s 48ms/step - loss: 0.6342 - accuracy: 0.6545 - precision: 0.6466 - recall: 0.5811 - val_loss: 0.5902 - val_accuracy: 0.7038 - val_precision: 0.5718 - val_recall: 0.5471\n\nEpoch 00001: val_loss improved from inf to 0.59016, saving model to saved_models/pretrainedVGG.best.from_scratch.hdf5\nEpoch 2/20\n2800/2800 [==============================] - 132s 47ms/step - loss: 0.6076 - accuracy: 0.6834 - precision: 0.6709 - recall: 0.6244 - val_loss: 0.5784 - val_accuracy: 0.7121 - val_precision: 0.5724 - val_recall: 0.5247\n\nEpoch 00002: val_loss improved from 0.59016 to 0.57836, saving model to saved_models/pretrainedVGG.best.from_scratch.hdf5\nEpoch 3/20\n2800/2800 [==============================] - 131s 47ms/step - loss: 0.6005 - accuracy: 0.6909 - precision: 0.6797 - recall: 0.6289 - val_loss: 0.5835 - val_accuracy: 0.7121 - val_precision: 0.5820 - val_recall: 0.5410\n\nEpoch 00003: val_loss did not improve from 0.57836\nEpoch 4/20\n2800/2800 [==============================] - 129s 46ms/step - loss: 0.5950 - accuracy: 0.6961 - precision: 0.6824 - recall: 0.6441 - val_loss: 0.5922 - val_accuracy: 0.7057 - val_precision: 0.5632 - val_recall: 0.5642\n\nEpoch 00004: val_loss did not improve from 0.57836\nEpoch 5/20\n2800/2800 [==============================] - 128s 46ms/step - loss: 0.5919 - accuracy: 0.6975 - precision: 0.6853 - recall: 0.6388 - val_loss: 0.5777 - val_accuracy: 0.7184 - val_precision: 0.5925 - val_recall: 0.5296\n\nEpoch 00005: val_loss improved from 0.57836 to 0.57769, saving model to saved_models/pretrainedVGG.best.from_scratch.hdf5\nEpoch 6/20\n2800/2800 [==============================] - 129s 46ms/step - loss: 0.5872 - accuracy: 0.7026 - precision: 0.6911 - recall: 0.6465 - val_loss: 0.5744 - val_accuracy: 0.7169 - val_precision: 0.5829 - val_recall: 0.4901\n\nEpoch 00006: val_loss improved from 0.57769 to 0.57443, saving model to saved_models/pretrainedVGG.best.from_scratch.hdf5\nEpoch 7/20\n2800/2800 [==============================] - 133s 47ms/step - loss: 0.5852 - accuracy: 0.7045 - precision: 0.6931 - recall: 0.6492 - val_loss: 0.5779 - val_accuracy: 0.7169 - val_precision: 0.5859 - val_recall: 0.5035\n\nEpoch 00007: val_loss did not improve from 0.57443\nEpoch 8/20\n2800/2800 [==============================] - 131s 47ms/step - loss: 0.5817 - accuracy: 0.7089 - precision: 0.6976 - recall: 0.6541 - val_loss: 0.5759 - val_accuracy: 0.7115 - val_precision: 0.5865 - val_recall: 0.4575\n\nEpoch 00008: val_loss did not improve from 0.57443\nEpoch 9/20\n2800/2800 [==============================] - 131s 47ms/step - loss: 0.5797 - accuracy: 0.7083 - precision: 0.6987 - recall: 0.6477 - val_loss: 0.5789 - val_accuracy: 0.7165 - val_precision: 0.5748 - val_recall: 0.5831\n\nEpoch 00009: val_loss did not improve from 0.57443\nEpoch 10/20\n2800/2800 [==============================] - 132s 47ms/step - loss: 0.5772 - accuracy: 0.7110 - precision: 0.6968 - recall: 0.6604 - val_loss: 0.5796 - val_accuracy: 0.7104 - val_precision: 0.5685 - val_recall: 0.5825\n\nEpoch 00010: val_loss did not improve from 0.57443\nEpoch 00010: early stopping\ntraining time: 22.20 minutes\n",
          "output_type": "stream"
        }
      ]
    },
    {
      "cell_type": "code",
      "source": [
        "model.load_weights('saved_models/pretrainedVGG.best.from_scratch.hdf5')\n",
        "prediction = model.predict(test_tensors)"
      ],
      "metadata": {
        "execution": {
          "iopub.status.busy": "2022-06-30T05:54:16.409138Z",
          "iopub.execute_input": "2022-06-30T05:54:16.409508Z",
          "iopub.status.idle": "2022-06-30T05:54:22.769393Z",
          "shell.execute_reply.started": "2022-06-30T05:54:16.409479Z",
          "shell.execute_reply": "2022-06-30T05:54:22.768541Z"
        },
        "trusted": true,
        "id": "fODIOMcQldOP",
        "outputId": "bf5098ce-071c-47c7-9c36-057799a85f7a"
      },
      "execution_count": null,
      "outputs": [
        {
          "name": "stderr",
          "text": "2022-06-30 05:54:16.485202: W tensorflow/core/framework/cpu_allocator_impl.cc:80] Allocation of 556400640 exceeds 10% of free system memory.\n2022-06-30 05:54:17.110140: W tensorflow/core/framework/cpu_allocator_impl.cc:80] Allocation of 556400640 exceeds 10% of free system memory.\n",
          "output_type": "stream"
        }
      ]
    },
    {
      "cell_type": "code",
      "source": [
        "threshold = 0.5\n",
        "beta = 0.5\n",
        "\n",
        "pre = K.eval(precision_threshold(threshold = threshold)(K.variable(value=test_labels),\n",
        "                                   K.variable(value=prediction)))\n",
        "rec = K.eval(recall_threshold(threshold = threshold)(K.variable(value=test_labels),\n",
        "                                   K.variable(value=prediction)))\n",
        "#fsc = K.eval(fbeta_score_threshold(beta = beta, threshold = threshold)(K.variable(value=test_labels),\n",
        "                                   #K.variable(value=prediction)))\n",
        "\n",
        "print (\"Precision: %f %%\\nRecall: %f \"% (pre, rec))"
      ],
      "metadata": {
        "execution": {
          "iopub.status.busy": "2022-06-30T05:54:22.772377Z",
          "iopub.execute_input": "2022-06-30T05:54:22.772727Z",
          "iopub.status.idle": "2022-06-30T05:54:22.788388Z",
          "shell.execute_reply.started": "2022-06-30T05:54:22.772699Z",
          "shell.execute_reply": "2022-06-30T05:54:22.787428Z"
        },
        "trusted": true,
        "id": "39AuF-NBldOQ",
        "outputId": "acd66996-0c3f-4256-9f64-b322a10eb16e"
      },
      "execution_count": null,
      "outputs": [
        {
          "name": "stdout",
          "text": "Precision: 0.701844 %\nRecall: 0.618231 \n",
          "output_type": "stream"
        }
      ]
    },
    {
      "cell_type": "code",
      "source": [
        "K.eval(binary_accuracy(K.variable(value=test_labels),\n",
        "                       K.variable(value=prediction)))"
      ],
      "metadata": {
        "execution": {
          "iopub.status.busy": "2022-06-30T05:54:29.132616Z",
          "iopub.execute_input": "2022-06-30T05:54:29.133230Z",
          "iopub.status.idle": "2022-06-30T05:54:29.143448Z",
          "shell.execute_reply.started": "2022-06-30T05:54:29.133194Z",
          "shell.execute_reply": "2022-06-30T05:54:29.142582Z"
        },
        "trusted": true,
        "id": "1E5KX6TXldOS",
        "outputId": "90107f0d-0d1d-4782-993f-8c348c51ae0d"
      },
      "execution_count": null,
      "outputs": [
        {
          "execution_count": 17,
          "output_type": "execute_result",
          "data": {
            "text/plain": "0.68462896"
          },
          "metadata": {}
        }
      ]
    },
    {
      "cell_type": "code",
      "source": [
        "import matplotlib.pyplot as plt  \n",
        "\n",
        "plt.figure(1, figsize = (15,8))  \n",
        "    \n",
        "plt.subplot(222)  \n",
        "plt.plot(history.history['loss'])  \n",
        "plt.plot(history.history['val_loss'])  \n",
        "plt.title('vgg16 model loss')  \n",
        "plt.ylabel('loss')  \n",
        "plt.xlabel('epoch')  \n",
        "plt.legend(['train', 'valid']) \n",
        "\n",
        "plt.show()"
      ],
      "metadata": {
        "execution": {
          "iopub.status.busy": "2022-06-30T05:54:31.014545Z",
          "iopub.execute_input": "2022-06-30T05:54:31.015462Z",
          "iopub.status.idle": "2022-06-30T05:54:31.218606Z",
          "shell.execute_reply.started": "2022-06-30T05:54:31.015425Z",
          "shell.execute_reply": "2022-06-30T05:54:31.217802Z"
        },
        "trusted": true,
        "id": "fnfj-tLBldOS",
        "outputId": "23b37e59-dd9f-4a40-d062-2b0c342cd9d3"
      },
      "execution_count": null,
      "outputs": [
        {
          "output_type": "display_data",
          "data": {
            "text/plain": "<Figure size 1080x576 with 1 Axes>",
            "image/png": "[encoded data removed]"
          },
          "metadata": {
            "needs_background": "light"
          }
        }
      ]
    },
    {
      "cell_type": "code",
      "source": [
        "plt.figure(1, figsize = (15,8))  \n",
        "    \n",
        "plt.subplot(222)  \n",
        "plt.plot(history.history['accuracy'])  \n",
        "plt.plot(history.history['val_accuracy'])  \n",
        "plt.title('vgg16 model accuracy')  \n",
        "plt.ylabel('accuracy')  \n",
        "plt.xlabel('epoch')  \n",
        "plt.legend(['train', 'valid']) \n",
        "\n",
        "plt.show()"
      ],
      "metadata": {
        "execution": {
          "iopub.status.busy": "2022-06-30T05:54:33.244160Z",
          "iopub.execute_input": "2022-06-30T05:54:33.244512Z",
          "iopub.status.idle": "2022-06-30T05:54:33.430674Z",
          "shell.execute_reply.started": "2022-06-30T05:54:33.244481Z",
          "shell.execute_reply": "2022-06-30T05:54:33.429803Z"
        },
        "trusted": true,
        "id": "5Sl5vOu0ldOT",
        "outputId": "45dc47c5-c66e-468f-dd1f-eaae306afbe7"
      },
      "execution_count": null,
      "outputs": [
        {
          "output_type": "display_data",
          "data": {
            "text/plain": "<Figure size 1080x576 with 1 Axes>",
            "image/png": "[encoded data removed]"
          },
          "metadata": {
            "needs_background": "light"
          }
        }
      ]
    },
    {
      "cell_type": "code",
      "source": [
        "plt.plot(history.history['recall'])\n",
        "plt.plot(history.history['val_recall'])\n",
        "\n",
        "plt.title('efficient-net model recall')\n",
        "plt.ylabel('recall')\n",
        "plt.xlabel('epoch')\n",
        "plt.legend(['train', 'test'], loc='upper left')\n",
        "plt.show()"
      ],
      "metadata": {
        "execution": {
          "iopub.status.busy": "2022-06-30T05:54:34.884506Z",
          "iopub.execute_input": "2022-06-30T05:54:34.884854Z",
          "iopub.status.idle": "2022-06-30T05:54:35.074911Z",
          "shell.execute_reply.started": "2022-06-30T05:54:34.884819Z",
          "shell.execute_reply": "2022-06-30T05:54:35.074149Z"
        },
        "trusted": true,
        "id": "BZNCKBmYldOU",
        "outputId": "b77f5cd8-749c-43bc-896c-20554c2cfee8"
      },
      "execution_count": null,
      "outputs": [
        {
          "output_type": "display_data",
          "data": {
            "text/plain": "<Figure size 432x288 with 1 Axes>",
            "image/png": "[encoded data removed]"
          },
          "metadata": {
            "needs_background": "light"
          }
        }
      ]
    },
    {
      "cell_type": "code",
      "source": [
        "plt.plot(history.history['precision'])\n",
        "plt.plot(history.history['val_precision'])\n",
        "\n",
        "plt.title('efficient-net model precision')\n",
        "plt.ylabel('f1_score')\n",
        "plt.xlabel('epoch')\n",
        "plt.legend(['train', 'test'], loc='upper left')\n",
        "plt.show()"
      ],
      "metadata": {
        "execution": {
          "iopub.status.busy": "2022-06-30T05:54:36.991862Z",
          "iopub.execute_input": "2022-06-30T05:54:36.992549Z",
          "iopub.status.idle": "2022-06-30T05:54:37.179533Z",
          "shell.execute_reply.started": "2022-06-30T05:54:36.992515Z",
          "shell.execute_reply": "2022-06-30T05:54:37.178619Z"
        },
        "trusted": true,
        "id": "MWW5h25WldOV",
        "outputId": "95775d36-2934-4ab6-afab-5d7a2c27fdc5"
      },
      "execution_count": null,
      "outputs": [
        {
          "output_type": "display_data",
          "data": {
            "text/plain": "<Figure size 432x288 with 1 Axes>",
            "image/png": "[encoded data removed]"
          },
          "metadata": {
            "needs_background": "light"
          }
        }
      ]
    },
    {
      "cell_type": "code",
      "source": [
        "model.save(\"vgg16_adam.h5\")\n",
        "model.save_weights('vgg16_weights_adam.h5')"
      ],
      "metadata": {
        "execution": {
          "iopub.status.busy": "2022-06-30T05:55:01.723255Z",
          "iopub.execute_input": "2022-06-30T05:55:01.723604Z",
          "iopub.status.idle": "2022-06-30T05:55:02.140819Z",
          "shell.execute_reply.started": "2022-06-30T05:55:01.723575Z",
          "shell.execute_reply": "2022-06-30T05:55:02.139395Z"
        },
        "trusted": true,
        "id": "tZjlmj-oldOV"
      },
      "execution_count": null,
      "outputs": []
    },
    {
      "cell_type": "raw",
      "source": [],
      "metadata": {
        "id": "B91srZD1ldOW"
      }
    },
    {
      "cell_type": "code",
      "source": [
        "pred = model.predict(test_tensors)\n"
      ],
      "metadata": {
        "execution": {
          "iopub.status.busy": "2022-06-30T05:56:08.912701Z",
          "iopub.execute_input": "2022-06-30T05:56:08.913079Z",
          "iopub.status.idle": "2022-06-30T05:56:15.068245Z",
          "shell.execute_reply.started": "2022-06-30T05:56:08.913048Z",
          "shell.execute_reply": "2022-06-30T05:56:15.067378Z"
        },
        "trusted": true,
        "id": "C5kWOIhvldOW",
        "outputId": "02a12e94-3304-4f80-8147-cd7a0f29f967"
      },
      "execution_count": null,
      "outputs": [
        {
          "name": "stderr",
          "text": "2022-06-30 05:56:08.916232: W tensorflow/core/framework/cpu_allocator_impl.cc:80] Allocation of 556400640 exceeds 10% of free system memory.\n2022-06-30 05:56:09.529136: W tensorflow/core/framework/cpu_allocator_impl.cc:80] Allocation of 556400640 exceeds 10% of free system memory.\n",
          "output_type": "stream"
        }
      ]
    },
    {
      "cell_type": "code",
      "source": [
        "pred = np.argmax(pred,axis=1)"
      ],
      "metadata": {
        "execution": {
          "iopub.status.busy": "2022-06-30T05:59:47.108756Z",
          "iopub.execute_input": "2022-06-30T05:59:47.109419Z",
          "iopub.status.idle": "2022-06-30T05:59:47.113703Z",
          "shell.execute_reply.started": "2022-06-30T05:59:47.109380Z",
          "shell.execute_reply": "2022-06-30T05:59:47.112809Z"
        },
        "trusted": true,
        "id": "yfcw3acKldOW"
      },
      "execution_count": null,
      "outputs": []
    },
    {
      "cell_type": "code",
      "source": [
        "from sklearn.metrics import accuracy_score"
      ],
      "metadata": {
        "execution": {
          "iopub.status.busy": "2022-06-30T05:57:49.834881Z",
          "iopub.execute_input": "2022-06-30T05:57:49.835693Z",
          "iopub.status.idle": "2022-06-30T05:57:49.896375Z",
          "shell.execute_reply.started": "2022-06-30T05:57:49.835655Z",
          "shell.execute_reply": "2022-06-30T05:57:49.895617Z"
        },
        "trusted": true,
        "id": "86_u-ZiZldOW"
      },
      "execution_count": null,
      "outputs": []
    },
    {
      "cell_type": "code",
      "source": [
        "x = accuracy_score(pred,test_labels)"
      ],
      "metadata": {
        "execution": {
          "iopub.status.busy": "2022-06-30T05:59:51.363453Z",
          "iopub.execute_input": "2022-06-30T05:59:51.363806Z",
          "iopub.status.idle": "2022-06-30T05:59:51.369299Z",
          "shell.execute_reply.started": "2022-06-30T05:59:51.363776Z",
          "shell.execute_reply": "2022-06-30T05:59:51.368539Z"
        },
        "trusted": true,
        "id": "7xMnW5szldOX"
      },
      "execution_count": null,
      "outputs": []
    },
    {
      "cell_type": "code",
      "source": [
        "x # Accuracy Score"
      ],
      "metadata": {
        "execution": {
          "iopub.status.busy": "2022-06-30T05:59:57.592352Z",
          "iopub.execute_input": "2022-06-30T05:59:57.592706Z",
          "iopub.status.idle": "2022-06-30T05:59:57.598476Z",
          "shell.execute_reply.started": "2022-06-30T05:59:57.592676Z",
          "shell.execute_reply": "2022-06-30T05:59:57.597615Z"
        },
        "trusted": true,
        "id": "wvw8VFMbldOX",
        "outputId": "5cb525b3-f23b-40e6-8d15-a15de50a8601"
      },
      "execution_count": null,
      "outputs": [
        {
          "execution_count": 29,
          "output_type": "execute_result",
          "data": {
            "text/plain": "0.5106007067137809"
          },
          "metadata": {}
        }
      ]
    }
  ]
}